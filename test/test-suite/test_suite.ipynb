{
 "cells": [
  {
   "cell_type": "markdown",
   "metadata": {},
   "source": [
    "# Importing the necessarry python packages"
   ]
  },
  {
   "cell_type": "code",
   "execution_count": 81,
   "metadata": {},
   "outputs": [],
   "source": [
    "import matplotlib.pyplot as plt\n",
    "import matplotlib.pylab as pl\n",
    "import numpy as np\n",
    "import matplotlib as mpl\n",
    "import glob\n",
    "import matplotlib\n",
    "from scipy.io import FortranFile\n",
    "import struct\n",
    "import os\n",
    "\n",
    "\n",
    "# Path were the test-suite is located\n",
    "current_dir   = # Add the test suite path here\n",
    "bin_dir       = # Add the bin directory here\n",
    "NUM_THREAD = 8 # This depends on your machine, this is the number of threads you want to use with openmp\n"
   ]
  },
  {
   "cell_type": "markdown",
   "metadata": {},
   "source": [
    "# Default compilation options for the tests"
   ]
  },
  {
   "cell_type": "code",
   "execution_count": 82,
   "metadata": {},
   "outputs": [],
   "source": [
    "OPENMP     = 1 # We use the openmp speedup\n",
    "SOLVER     = 2 # HLL\n",
    "SOLVERDUST = 0 # Huang & Bai 2021, if applicable : if dust is included\n",
    "RESOLUTION = 1024 # Default resolution\n",
    "default_compils={'OPENMP':OPENMP,\"NUM_THREAD\":NUM_THREAD,'SOLVER':SOLVER,'SOLVERDUST':SOLVERDUST,\"RESOLUTION\":RESOLUTION}"
   ]
  },
  {
   "cell_type": "markdown",
   "metadata": {},
   "source": [
    "# Functions to read the data from shark"
   ]
  },
  {
   "cell_type": "code",
   "execution_count": 88,
   "metadata": {},
   "outputs": [],
   "source": [
    "def read_var(filename,varname,size):\n",
    "    f=open(filename+\"/\"+varname, \"rb\")\n",
    "    dat = np.fromfile(f, dtype=np.float64, count=size, sep='')\n",
    "    return dat\n",
    "\n",
    "def read_parameter_file(fname=\"\",evaluate=True,verbose=True,delimiter=\"=\"):\n",
    "    # Read info file and create dictionary\n",
    "    try:\n",
    "        with open(fname) as f:\n",
    "            content = f.readlines()\n",
    "        f.close()\n",
    "    except IOError:\n",
    "        # Clean exit if the file was not found\n",
    "        if verbose:\n",
    "            print(\"File not found: \"+fname)\n",
    "        return 0\n",
    "    infos={}\n",
    "    for line in content:\n",
    "        sp = line.split(delimiter)\n",
    "        #print(sp)\n",
    "        if len(sp) > 1:\n",
    "            if evaluate:\n",
    "                try:\n",
    "                    infos[sp[0].strip()] = eval(sp[1].strip())\n",
    "                except (NameError,SyntaxError):\n",
    "                    infos[sp[0].strip()] = sp[1].strip()\n",
    "            else:\n",
    "                infos[sp[0].strip()] = sp[1].strip()\n",
    "    return infos\n",
    "\n",
    "def read_output(number,path='.'):\n",
    "    \n",
    "    if(number==-1):\n",
    "        filelist = sorted(glob.glob(path+\"/output*\"))\n",
    "        number = filelist[-1].split(\"_\")[-1]\n",
    "    print('Reading output '+str(number))\n",
    "    data={}\n",
    "    filename= path+\"/output_\"+ str(number).zfill(5)\n",
    "    infos=read_parameter_file(fname=filename+'/info.dat')\n",
    "    data['infos']=infos\n",
    "    for key in infos:\n",
    "        print(key+' = ',infos[key])\n",
    "    \n",
    "    NX          = infos[\"NX\"]\n",
    "    NY          = infos[\"NY\"]\n",
    "    NDUST       = infos[\"ndust\"]\n",
    "    GEOM        = infos['GEOM']\n",
    "    GRIDSPACE   = infos['GRIDSPACE']\n",
    "    data['x']   = read_var(filename,'x',NX*NY)\n",
    "    if(NY>1):\n",
    "        data['y']   = read_var(filename,'y',NX*NY)\n",
    "    \n",
    "    vx   = read_var(filename,'v',NX*NY)\n",
    "    vy   = read_var(filename,'vy',NX*NY)\n",
    "    P    = read_var(filename,'P',NX*NY)\n",
    "    rho  = read_var(filename,'rho',NX*NY)\n",
    "\n",
    "    if(NDUST>0):\n",
    "        rhod   = read_var(filename,'rhod',NX*NY*NDUST)\n",
    "        vdx    = read_var(filename,'vd', NX*NY*NDUST)\n",
    "        vdy    = read_var(filename,'vdy',NX*NY*NDUST)\n",
    "        if(NY>1):\n",
    "            data['rhod'] = np.reshape(rhod,(NY,NX),order = \"C\").T\n",
    "            data['vdx']  = np.reshape(vdx,(NY,NX),order = \"C\").T\n",
    "            data['vdy']  = np.reshape(vdy,(NY,NX),order = \"C\").T\n",
    "        else:\n",
    "            data['rhod'] = rhod\n",
    "            data['vdx']  = vdx\n",
    "            data['vdy']  = vdy\n",
    "    \n",
    "    if(NY>1):      \n",
    "        data['rho'] = np.reshape(rho,(NY,NX),order = \"C\").T\n",
    "        data['vx']  = np.reshape(vx,(NY,NX),order = \"C\").T\n",
    "        data['vy']  = np.reshape(vy,(NY,NX),order = \"C\").T\n",
    "    else:\n",
    "        data['rho'] = rho\n",
    "        data['vx']  = vx\n",
    "        data['vy']  = vy\n",
    "        data['P']   = P\n",
    "        \n",
    "    if(GEOM==2): \n",
    "        r=np.linspace(1,400,NX)\n",
    "        if(GRIDSPACE==1):\n",
    "            r=np.logspace(np.log10(1),np.log10(400),NX)\n",
    "        data['r']=r\n",
    "        data['theta']=np.linspace(0,2.*np.pi,NY)\n",
    "    return data"
   ]
  },
  {
   "cell_type": "markdown",
   "metadata": {},
   "source": [
    "# Functions to run the tests"
   ]
  },
  {
   "cell_type": "code",
   "execution_count": 89,
   "metadata": {},
   "outputs": [],
   "source": [
    "def run_test(test='Sod-tube',path_suite=current_dir,options=default_compils,visu=True):\n",
    "    if(test==\"Sod-tube\"):\n",
    "        flags=\"SETUP=SOD NX=\"+str(default_compils[\"RESOLUTION\"])+\" NY=1 NGHOST=2 OPENMP=\"+str(default_compils[\"OPENMP\"])+\" DEBUG=0 SOLVER=\"+str(default_compils[\"SOLVER\"])\n",
    "        print ('You are compiling with the options '+ flags )\n",
    "        os.chdir(bin_dir)\n",
    "        os.system(\"make clean && make \"+flags)\n",
    "        os.chdir(current_dir+'/'+test)\n",
    "        os.system(bin_dir+'/shark sod.nml')\n",
    "        data_ana = np.loadtxt(current_dir+'/'+test+'/solution.dat')\n",
    "        x_ana    = data_ana[:,1]\n",
    "        rho_ana  = data_ana[:,3]\n",
    "        u_ana    = data_ana[:,2]\n",
    "        p_ana    = data_ana[:,4]\n",
    "        T_ana    = data_ana[:,5]*1.2027e-8/2.5\n",
    "        \n",
    "        data=read_output(-1)\n",
    "        plt.plot(x_ana,rho_ana,color='k',label='analytical solution')\n",
    "        plt.plot(data['x'],data['rho'],color='r',linestyle='dashed',label='SHARK')\n",
    "        plt.xlabel(\"x\")\n",
    "        plt.ylabel(\"density [code units]\")\n",
    "        plt.legend()\n",
    "        plt.show()\n",
    "        os.chdir(current_dir)"
   ]
  },
  {
   "cell_type": "markdown",
   "metadata": {},
   "source": [
    "# Tests"
   ]
  },
  {
   "cell_type": "markdown",
   "metadata": {},
   "source": [
    "## Test 1 : Sod-tube"
   ]
  },
  {
   "cell_type": "markdown",
   "metadata": {},
   "source": [
    "This is the first test to be ran, this is a simple 1D simulation of a propagating shock. This test has an analytical solution and serves as a validation of the gas."
   ]
  },
  {
   "cell_type": "code",
   "execution_count": 90,
   "metadata": {},
   "outputs": [
    {
     "name": "stdout",
     "output_type": "stream",
     "text": [
      "You are compiling with the options SETUP=SOD NX=1024 NY=1 NGHOST=2 OPENMP=1 DEBUG=0 SOLVER=2\n",
      "Reading output 00002\n",
      "nvar =  5\n",
      "ndust =  0\n",
      "NX =  1024\n",
      "NY =  1\n",
      "MHD =  0\n",
      "GEOM =  0\n",
      "GRIDSPACE =  0\n",
      "time =  0.245211858484452\n",
      "unit_t =  1.0\n",
      "unit_d =  1.0\n",
      "unit_l =  1.0\n",
      "unit_v =  1.0\n",
      "unit_p =  1.0\n",
      "charging =  0\n"
     ]
    },
    {
     "data": {
      "image/png": "[encoded data removed]",
      "text/plain": [
       "<Figure size 432x288 with 1 Axes>"
      ]
     },
     "metadata": {
      "needs_background": "light"
     },
     "output_type": "display_data"
    }
   ],
   "source": [
    "run_test(test='Sod-tube')"
   ]
  },
  {
   "cell_type": "code",
   "execution_count": null,
   "metadata": {},
   "outputs": [],
   "source": []
  },
  {
   "cell_type": "code",
   "execution_count": null,
   "metadata": {},
   "outputs": [],
   "source": []
  }
 ],
 "metadata": {
  "kernelspec": {
   "display_name": "Python 3",
   "language": "python",
   "name": "python3"
  },
  "language_info": {
   "codemirror_mode": {
    "name": "ipython",
    "version": 3
   },
   "file_extension": ".py",
   "mimetype": "text/x-python",
   "name": "python",
   "nbconvert_exporter": "python",
   "pygments_lexer": "ipython3",
   "version": "3.8.5"
  }
 },
 "nbformat": 4,
 "nbformat_minor": 4
}
